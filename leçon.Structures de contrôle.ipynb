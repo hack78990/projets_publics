{
 "cells": [
  {
   "cell_type": "markdown",
   "metadata": {},
   "source": [
    "# Structures de contrôle : if, while..."
   ]
  },
  {
   "cell_type": "markdown",
   "metadata": {},
   "source": [
    "## Si sinon si sinon   /  if  elif   else"
   ]
  },
  {
   "cell_type": "raw",
   "metadata": {},
   "source": [
    "Exercice\n",
    "En utilisant la structure conditionnelle si sinon si en python, codez le programme suivant :\n",
    "Demandez la taille d'une personne, en fonction de la réponse afficher le message suivant :\n",
    "1m et moins : vous êtes petit\n",
    "1.5 m maxi : vous avez une taille très moyenne\n",
    "1.7 m maxi : vous êtes assez grand\n",
    "1.99 maxi : vous êtes très grand\n",
    "2m et plus : vous êtes géant\n"
   ]
  },
  {
   "cell_type": "code",
   "execution_count": 27,
   "metadata": {},
   "outputs": [
    {
     "name": "stdout",
     "output_type": "stream",
     "text": [
      "saisissez votre taille\n",
      "1.66\n",
      "vous êtes assez grand\n"
     ]
    }
   ],
   "source": [
    "print(\"saisissez votre taille\")\n",
    "saisie =input()\n",
    "\n",
    "float (taille)\n",
    "\n",
    "if taille <= 1:\n",
    "    print(\"vous êtes petit\")\n",
    "\n",
    "    \n",
    "elif taille > 1 and taille <= 1.5:\n",
    "    print(\"vous avez une taille très moyenne\")\n",
    "    \n",
    "elif taille > 1.5 and taille <= 1.7:\n",
    "    print(\"vous êtes assez grand\")\n",
    "\n",
    "elif taille>1.7 and taille<=1.99 :\n",
    "    print(\"vous êtes assez grand\")\n",
    "\n",
    "else :\n",
    "    print(\"vous êtes géant1.66\")   \n",
    "    \n",
    "\n",
    " \n"
   ]
  },
  {
   "cell_type": "markdown",
   "metadata": {},
   "source": [
    "##  tant que    /  while "
   ]
  },
  {
   "cell_type": "code",
   "execution_count": null,
   "metadata": {},
   "outputs": [],
   "source": [
    "Ecrivez une boucle while qui demande si on veut recommencer\n",
    "si on tape non on ne recommence pas\n",
    "si on tape autre chose on recommence\n",
    "\n",
    "\n"
   ]
  },
  {
   "cell_type": "code",
   "execution_count": 40,
   "metadata": {},
   "outputs": [
    {
     "name": "stdout",
     "output_type": "stream",
     "text": [
      "voulez-vous recommencer saisir oui  ou non \n",
      "uuu\n",
      "voulez-vous recommencer saisir oui  ou non \n",
      "ii\n",
      "voulez-vous recommencer saisir oui  ou non \n",
      "non\n",
      "je ne vaux pas recommencer\n"
     ]
    }
   ],
   "source": [
    "entree=\"oui\"\n",
    "\n",
    "while entree != \"non\":\n",
    "    print(\"voulez-vous recommencer saisir oui  ou non \")\n",
    "    entree=input()\n",
    "    \n",
    "#je suis sorti de ma boucle\n",
    "print(\"je ne veux pas recommencer\")"
   ]
  },
  {
   "cell_type": "code",
   "execution_count": null,
   "metadata": {},
   "outputs": [],
   "source": []
  }
 ],
 "metadata": {
  "kernelspec": {
   "display_name": "Python 3",
   "language": "python",
   "name": "python3"
  },
  "language_info": {
   "codemirror_mode": {
    "name": "ipython",
    "version": 3
   },
   "file_extension": ".py",
   "mimetype": "text/x-python",
   "name": "python",
   "nbconvert_exporter": "python",
   "pygments_lexer": "ipython3",
   "version": "3.7.3"
  }
 },
 "nbformat": 4,
 "nbformat_minor": 2
}
